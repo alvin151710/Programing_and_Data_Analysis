%%writefile app.py
# import module
# 📦 Import Libraries
import streamlit as st
import pandas as pd
import matplotlib.pyplot as plt
import seaborn as sns
from sklearn.ensemble import RandomForestRegressor
from sklearn.preprocessing import StandardScaler

# ==========================
# 💾 Load Dataset
# ==========================
df_all = pd.read_csv("final_dataset.csv")

# ==========================
# 🎯 Sidebar Navigation
# ==========================
st.sidebar.title("🌫️ CMP7005 PM2.5 Prediction App")
page = st.sidebar.radio("Navigate to ➤", ["📄 Overview", "📊 EDA", "📈 Prediction"])
