%%writefile app.py
# import module
# 📦 Import Libraries
import streamlit as st
import pandas as pd
import matplotlib.pyplot as plt
import seaborn as sns
from sklearn.ensemble import RandomForestRegressor
from sklearn.preprocessing import StandardScaler

# ==========================
# 💾 Load Dataset
# ==========================
df_all = pd.read_csv("final_dataset.csv")

# ==========================
# 🎯 Sidebar Navigation
# ==========================
st.sidebar.title("🌫️ CMP7005 PM2.5 Prediction App")
page = st.sidebar.radio("Navigate to ➤", ["📄 Overview", "📊 EDA", "📈 Prediction"])

# ==========================
# 📄 Page 1: Overview
# ==========================
if page == "📄 Overview":
    st.title("📄 Dataset Overview")
    st.markdown("This app presents air quality and weather data from Beijing monitoring stations (2013–2017).")

    st.subheader("🧾 Sample Data")
    st.dataframe(df_all.head(), use_container_width=True)

    st.subheader("📏 Dataset Dimensions")
    st.markdown(f"✅ Rows: **{df_all.shape[0]}**, Columns: **{df_all.shape[1]}**")

    st.subheader("❗ Missing Values")
    missing = df_all.isnull().sum()
    st.bar_chart(missing[missing > 0])
