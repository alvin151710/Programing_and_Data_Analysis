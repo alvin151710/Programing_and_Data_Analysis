%%writefile app.py
# import module
# 📦 Import Libraries
import streamlit as st
import pandas as pd
import matplotlib.pyplot as plt
import seaborn as sns
from sklearn.ensemble import RandomForestRegressor
from sklearn.preprocessing import StandardScaler

# ==========================
# 💾 Load Dataset
# ==========================
df_all = pd.read_csv("og.dataset.csv")

# ==========================
# 🎯 Sidebar Navigation
# ==========================
st.sidebar.title("🌫️ CMP7005 PM2.5 Prediction App")
page = st.sidebar.radio("Navigate to ➤", ["📄 Overview", "📊 EDA", "📈 Prediction"])

# ==========================
# 📄 Page 1: Overview
# ==========================
if page == "📄 Overview":
    st.title("📄 Dataset Overview")
    st.markdown("This app presents air quality and weather data from Beijing monitoring stations (2013–2017).")

    st.subheader("🧾 Sample Data")
    st.dataframe(df_all.head(), use_container_width=True)

    st.subheader("📏 Dataset Dimensions")
    st.markdown(f"✅ Rows: **{df_all.shape[0]}**, Columns: **{df_all.shape[1]}**")

    st.subheader("❗ Missing Values")
    missing = df_all.isnull().sum()
    st.bar_chart(missing[missing > 0])

# ==========================
# 📊 Page 2: Exploratory Data Analysis
# ==========================
elif page == "📊 EDA":
    st.title("📊 Exploratory Data Analysis (EDA)")

    st.markdown("Check any of the options below to visualise air quality trends:")

    if st.checkbox("📌 PM2.5 Distribution Histogram"):
        fig, ax = plt.subplots()
        ax.hist(df_all["PM2.5"].dropna(), bins=50, color="salmon", edgecolor='black')
        ax.set_title("PM2.5 Concentration Distribution", fontsize=13)
        ax.set_xlabel("PM2.5 (µg/m³)")
        ax.set_ylabel("Frequency")
        st.pyplot(fig)

    if st.checkbox("🧠 Correlation Heatmap"):
        fig, ax = plt.subplots(figsize=(10, 6))
        corr = df_all[['PM2.5', 'PM10', 'SO2', 'NO2', 'CO', 'O3']].corr()
        sns.heatmap(corr, annot=True, cmap="coolwarm", ax=ax, linewidths=0.5)
        ax.set_title("Correlation Between Pollutants", fontsize=13)
        st.pyplot(fig)

    if st.checkbox("📅 Monthly PM2.5 Trend"):
        fig, ax = plt.subplots(figsize=(10, 4))
        df_all["PM2.5"].resample('M').mean().plot(ax=ax, color="purple")
        ax.set_title("Monthly Average PM2.5 (2013–2017)", fontsize=13)
        ax.set_ylabel("PM2.5 (µg/m³)")
        st.pyplot(fig)

# ==========================
# 📈 Page 3: PM2.5 Prediction
# ==========================
elif page == "📈 Prediction":
    st.title("📈 Predict PM2.5 Level Based on Weather & Pollution Inputs")
    st.markdown("Adjust the sliders below to simulate environmental conditions:")

    # 🔘 Create input sliders in columns
    col1, col2, col3 = st.columns(3)
    with col1:
        PM10 = st.slider("PM10 (µg/m³)", 0.0, 500.0, 100.0)
        SO2 = st.slider("SO2 (µg/m³)", 0.0, 100.0, 20.0)
        NO2 = st.slider("NO2 (µg/m³)", 0.0, 200.0, 60.0)
    with col2:
        CO = st.slider("CO (mg/m³)", 0.0, 10.0, 1.0)
        O3 = st.slider("O3 (µg/m³)", 0.0, 300.0, 80.0)
        TEMP = st.slider("Temperature (°C)", -20.0, 50.0, 20.0)
    with col3:
        PRES = st.slider("Pressure (hPa)", 990.0, 1100.0, 1012.0)
        DEWP = st.slider("Dew Point (°C)", -30.0, 30.0, 5.0)
        WSPM = st.slider("Wind Speed (m/s)", 0.0, 20.0, 2.5)

    # 🎯 Predict button
    if st.button("🚀 Predict PM2.5"):
        input_data = pd.DataFrame([[PM10, SO2, NO2, CO, O3, TEMP, PRES, DEWP, WSPM]],
                                  columns=['PM10', 'SO2', 'NO2', 'CO', 'O3', 'TEMP', 'PRES', 'DEWP', 'WSPM'])

        # 💡 Model Training
        X = df_all[['PM10', 'SO2', 'NO2', 'CO', 'O3', 'TEMP', 'PRES', 'DEWP', 'WSPM']]
        y = df_all['PM2.5']

        scaler = StandardScaler()
        X_scaled = scaler.fit_transform(X)
        input_scaled = scaler.transform(input_data)

        model = RandomForestRegressor(n_estimators=100, random_state=42)
        model.fit(X_scaled, y)

        prediction = model.predict(input_scaled)

        # ✅ Show result
        st.success(f"✅ Predicted PM2.5 Level: **{prediction[0]:.2f} µg/m³**")
